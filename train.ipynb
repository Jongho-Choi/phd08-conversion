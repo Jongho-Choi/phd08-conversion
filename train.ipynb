{
 "cells": [
  {
   "cell_type": "code",
   "execution_count": 2,
   "metadata": {},
   "outputs": [],
   "source": [
    "from tensorflow.keras import Sequential\n",
    "from tensorflow.keras.layers import Dense, Conv2D, MaxPooling2D, Flatten\n",
    "from tensorflow.keras.layers import Dense, Flatten\n",
    "from tensorflow.keras.models import Sequential\n",
    "from tensorflow.keras.callbacks import ModelCheckpoint, ReduceLROnPlateau\n",
    "from sklearn.model_selection import train_test_split\n",
    "import numpy as np\n",
    "import tensorflow as tf\n",
    "import matplotlib.pyplot as plt\n",
    "from PIL import Image"
   ]
  },
  {
   "cell_type": "code",
   "execution_count": 3,
   "metadata": {},
   "outputs": [
    {
     "name": "stdout",
     "output_type": "stream",
     "text": [
      "(1175000, 28, 28) (1175000,)\n"
     ]
    }
   ],
   "source": [
    "## 데이터/라벨/한글라벨/숫자라벨 경로/파일명 지정\n",
    "file_dir = 'D:\\\\Codestates\\\\section4\\\\project4\\\\Korean_commercial_letters\\\\phd08-conversion\\\\phd08_npy_results\\\\'\n",
    "data_name = 'phd08_data_'\n",
    "label_name = 'phd08_labels_'\n",
    "\n",
    "out_data  = file_dir + data_name + '.npy'\n",
    "out_label = file_dir + label_name + '.npy' \n",
    "out_label_kor = file_dir + label_name + 'kor' + '.npy'\n",
    "out_label_num = file_dir + label_name + 'num' + '.npy'\n",
    "\n",
    "## 저장된 파일 로딩 후 확인\n",
    "npy_data_test = np.load(out_data)\n",
    "#npy_label_test = np.load(out_label)\n",
    "#npy_label_kor_test = np.load(out_label_kor)\n",
    "npy_label_num_test = np.load(out_label_num)\n",
    "print(npy_data_test.shape, npy_label_num_test.shape)#, npy_label_test.shape, npy_label_kor_test.shape"
   ]
  },
  {
   "cell_type": "code",
   "execution_count": 4,
   "metadata": {},
   "outputs": [],
   "source": [
    "np.random.seed(42)\n",
    "tf.random.set_seed(42)\n",
    "\n",
    "## X_train 축 추가\n",
    "X_train, y_train = npy_data_test, npy_label_num_test\n",
    "y_train = y_train.astype(int)\n",
    "#X_train = X_train[:1000]\n",
    "#y_train = y_train[:1000]\n",
    "X_train, X_val, y_train, y_val = train_test_split(X_train, y_train, test_size=.2, shuffle=True, stratify=y_train, random_state=42)\n"
   ]
  },
  {
   "cell_type": "code",
   "execution_count": 11,
   "metadata": {},
   "outputs": [
    {
     "name": "stdout",
     "output_type": "stream",
     "text": [
      "Model: \"sequential_1\"\n",
      "_________________________________________________________________\n",
      " Layer (type)                Output Shape              Param #   \n",
      "=================================================================\n",
      " conv2d_3 (Conv2D)           (None, 28, 28, 32)        320       \n",
      "                                                                 \n",
      " max_pooling2d_2 (MaxPooling  (None, 14, 14, 32)       0         \n",
      " 2D)                                                             \n",
      "                                                                 \n",
      " conv2d_4 (Conv2D)           (None, 14, 14, 64)        18496     \n",
      "                                                                 \n",
      " max_pooling2d_3 (MaxPooling  (None, 7, 7, 64)         0         \n",
      " 2D)                                                             \n",
      "                                                                 \n",
      " conv2d_5 (Conv2D)           (None, 7, 7, 32)          18464     \n",
      "                                                                 \n",
      " flatten_1 (Flatten)         (None, 1568)              0         \n",
      "                                                                 \n",
      " dense_2 (Dense)             (None, 256)               401664    \n",
      "                                                                 \n",
      " dense_3 (Dense)             (None, 2350)              603950    \n",
      "                                                                 \n",
      "=================================================================\n",
      "Total params: 1,042,894\n",
      "Trainable params: 1,042,894\n",
      "Non-trainable params: 0\n",
      "_________________________________________________________________\n"
     ]
    }
   ],
   "source": [
    "## 모델 생성\n",
    "model = Sequential()\n",
    "model.add(Conv2D(32, (3,3), padding='same', activation='relu', input_shape= (28,28,1)))\n",
    "model.add(MaxPooling2D(2,2))\n",
    "model.add(Conv2D(64, (3,3), padding='same', activation='relu'))\n",
    "model.add(MaxPooling2D(2,2))\n",
    "model.add(Conv2D(32, (3,3), padding='same', activation='relu'))\n",
    "model.add(Flatten())\n",
    "model.add(Dense(256, activation='relu'))\n",
    "model.add(Dense(2350, activation='softmax'))\n",
    "\n",
    "model.compile(optimizer='adam',\n",
    "              loss='sparse_categorical_crossentropy',\n",
    "              metrics=['acc'])\n",
    "model.summary()"
   ]
  },
  {
   "cell_type": "code",
   "execution_count": 12,
   "metadata": {},
   "outputs": [
    {
     "name": "stdout",
     "output_type": "stream",
     "text": [
      "Epoch 1/5\n",
      "1836/1836 [==============================] - ETA: 0s - loss: 0.4375 - acc: 0.9109\n",
      "Epoch 1: val_acc improved from -inf to 0.98776, saving model to models\\model_test2.h5\n",
      "1836/1836 [==============================] - 577s 314ms/step - loss: 0.4375 - acc: 0.9109 - val_loss: 0.0363 - val_acc: 0.9878 - lr: 0.0010\n",
      "Epoch 2/5\n",
      "1836/1836 [==============================] - ETA: 0s - loss: 0.0245 - acc: 0.9912\n",
      "Epoch 2: val_acc improved from 0.98776 to 0.99110, saving model to models\\model_test2.h5\n",
      "1836/1836 [==============================] - 580s 316ms/step - loss: 0.0245 - acc: 0.9912 - val_loss: 0.0254 - val_acc: 0.9911 - lr: 0.0010\n",
      "Epoch 3/5\n",
      "1836/1836 [==============================] - ETA: 0s - loss: 0.0178 - acc: 0.9927\n",
      "Epoch 3: val_acc improved from 0.99110 to 0.99342, saving model to models\\model_test2.h5\n",
      "1836/1836 [==============================] - 605s 330ms/step - loss: 0.0178 - acc: 0.9927 - val_loss: 0.0137 - val_acc: 0.9934 - lr: 0.0010\n",
      "Epoch 4/5\n",
      "1836/1836 [==============================] - ETA: 0s - loss: 0.0145 - acc: 0.9935\n",
      "Epoch 4: val_acc did not improve from 0.99342\n",
      "1836/1836 [==============================] - 620s 338ms/step - loss: 0.0145 - acc: 0.9935 - val_loss: 0.0144 - val_acc: 0.9934 - lr: 0.0010\n",
      "Epoch 5/5\n",
      "1836/1836 [==============================] - ETA: 0s - loss: 0.0127 - acc: 0.9939\n",
      "Epoch 5: val_acc improved from 0.99342 to 0.99351, saving model to models\\model_test2.h5\n",
      "1836/1836 [==============================] - 594s 324ms/step - loss: 0.0127 - acc: 0.9939 - val_loss: 0.0132 - val_acc: 0.9935 - lr: 0.0010\n"
     ]
    }
   ],
   "source": [
    "## 모델 학습\n",
    "history = model.fit(X_train, y_train,\n",
    "                    batch_size=512,\n",
    "                    validation_data=(X_val, y_val),\n",
    "                    epochs=5,\n",
    "                    callbacks=[\n",
    "                               ModelCheckpoint('models/model_test2.h5', monitor='val_acc', verbose=1, save_best_only=True, mode='auto'),\n",
    "                               ReduceLROnPlateau(monitor='val_acc', factor=0.5, patience=50, verbose=1, mode='auto')\n",
    "                              ]\n",
    "                    )"
   ]
  },
  {
   "cell_type": "code",
   "execution_count": 9,
   "metadata": {},
   "outputs": [
    {
     "data": {
      "image/png": "[encoded data removed]",
      "text/plain": [
       "<Figure size 1152x720 with 2 Axes>"
      ]
     },
     "metadata": {
      "needs_background": "light"
     },
     "output_type": "display_data"
    }
   ],
   "source": [
    "\n",
    "fig, loss_ax = plt.subplots(figsize=(16, 10))\n",
    "acc_ax = loss_ax.twinx()\n",
    "\n",
    "loss_ax.plot(history.history['loss'], 'y', label='train loss')\n",
    "loss_ax.plot(history.history['val_loss'], 'r', label='val loss')\n",
    "loss_ax.set_xlabel('epoch')\n",
    "loss_ax.set_ylabel('loss')\n",
    "loss_ax.legend(loc='upper left')\n",
    "\n",
    "acc_ax.plot(history.history['acc'], 'b', label='train acc')\n",
    "acc_ax.plot(history.history['val_acc'], 'g', label='val acc')\n",
    "acc_ax.set_ylabel('accuracy')\n",
    "acc_ax.legend(loc='upper left')\n",
    "\n",
    "plt.show()"
   ]
  },
  {
   "cell_type": "code",
   "execution_count": 10,
   "metadata": {},
   "outputs": [],
   "source": [
    "model.save('models/Korean_commercial_letter_2350_20epoch_test2.h5')"
   ]
  }
 ],
 "metadata": {
  "interpreter": {
   "hash": "5fe95e858a2424baa5fb6e93ae7c8f251a9ea0b1e852b08a491115fd7132bd16"
  },
  "kernelspec": {
   "display_name": "Python 3.8.13 ('phd08')",
   "language": "python",
   "name": "python3"
  },
  "language_info": {
   "codemirror_mode": {
    "name": "ipython",
    "version": 3
   },
   "file_extension": ".py",
   "mimetype": "text/x-python",
   "name": "python",
   "nbconvert_exporter": "python",
   "pygments_lexer": "ipython3",
   "version": "3.8.13"
  },
  "orig_nbformat": 4
 },
 "nbformat": 4,
 "nbformat_minor": 2
}
